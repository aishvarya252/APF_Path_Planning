{
 "cells": [
  {
   "cell_type": "code",
   "execution_count": null,
   "metadata": {},
   "outputs": [
    {
     "name": "stdout",
     "output_type": "stream",
     "text": [
      "✅ Saved: annotated_first_image22.png with size (2688, 1512) and DPI 96\n"
     ]
    }
   ],
   "source": [
    "import os\n",
    "import json\n",
    "import cv2\n",
    "import matplotlib.pyplot as plt\n",
    "import numpy as np\n",
    "from pycocotools import mask as maskUtils\n",
    "from PIL import Image\n",
    "\n",
    "# === Your inputs ===\n",
    "image_path = \"C:/ML/IHUBdata/apf/test5/A-hybrid-path-planning-algorithm-based-on-APF-and-Astar/singleAPF/Utility/Cases/Case2/train/DJI_0010_MP4-0030_jpg.rf.f9c8005d9b21cedfca7cd34ab2ed313b.jpg\"\n",
    "annotation_path = \"C:/ML/IHUBdata/apf/test5/A-hybrid-path-planning-algorithm-based-on-APF-and-Astar/singleAPF/Utility/Cases/Case2/train/_annotations.coco.json\"\n",
    "output_filename = \"annotated_last_image2.png\"  # PNG recommended for preserving DPI\n",
    "\n",
    "# === Load COCO annotations ===\n",
    "with open(annotation_path, 'r') as f:\n",
    "    coco = json.load(f)\n",
    "\n",
    "# === Extract filename from image_path ===\n",
    "image_filename = os.path.basename(image_path)\n",
    "\n",
    "# === Find corresponding image entry ===\n",
    "image_entry = next((img for img in coco['images'] if img['file_name'] == image_filename), None)\n",
    "if image_entry is None:\n",
    "    raise ValueError(f\"❌ Image filename '{image_filename}' not found in COCO JSON.\")\n",
    "\n",
    "image_id = image_entry['id']\n",
    "\n",
    "# === Load image ===\n",
    "image = cv2.imread(image_path)\n",
    "if image is None:\n",
    "    raise ValueError(f\"❌ Failed to load image: {image_path}\")\n",
    "image = cv2.cvtColor(image, cv2.COLOR_BGR2RGB)\n",
    "height, width = image.shape[:2]\n",
    "\n",
    "# === Get annotations for this image ===\n",
    "annotations = [ann for ann in coco['annotations'] if ann['image_id'] == image_id]\n",
    "\n",
    "# === Draw segmentations using OpenCV ===\n",
    "overlay = image.copy()\n",
    "for ann in annotations:\n",
    "    segs = ann.get('segmentation', [])\n",
    "    if not segs or not isinstance(segs, list):\n",
    "        continue\n",
    "    for seg in segs:\n",
    "        poly = np.array(seg).reshape((-1, 2)).astype(np.int32)\n",
    "        if len(poly) >= 3:\n",
    "            cv2.polylines(overlay, [poly], isClosed=True, color=(0, 255, 0), thickness=2)\n",
    "\n",
    "# === Save final image with DPI 96 ===\n",
    "output_pil = Image.fromarray(overlay)\n",
    "output_pil.save(output_filename, dpi=(96, 96))\n",
    "\n",
    "print(f\"✅ Saved: {output_filename} with size {output_pil.size} and DPI 96\")\n"
   ]
  },
  {
   "cell_type": "code",
   "execution_count": null,
   "metadata": {},
   "outputs": [
    {
     "name": "stdout",
     "output_type": "stream",
     "text": [
      "✅ Saved annotated_last_image_exact_res2.png with size (2688, 1512) and DPI set to 96.\n"
     ]
    }
   ],
   "source": [
    "import os\n",
    "import json\n",
    "import cv2\n",
    "import matplotlib.pyplot as plt\n",
    "import numpy as np\n",
    "from pycocotools import mask as maskUtils\n",
    "from PIL import Image\n",
    "\n",
    "# === Your paths ===\n",
    "image_path = \"C:/ML/IHUBdata/apf/test5/A-hybrid-path-planning-algorithm-based-on-APF-and-Astar/singleAPF/Utility/ihub.v3i.tensorflow/train/DJI_0010_MP4-0001_jpg.rf.67c0057a912a0da301ab1e19271d462f.jpg\"\n",
    "annotation_path = \"C:/ML/IHUBdata/apf/test5/A-hybrid-path-planning-algorithm-based-on-APF-and-Astar/singleAPF/Utility/ihub.v8i.coco/train/_annotations.coco.json\"\n",
    "output_filename = \"annotated_last_image_exact_res.png\"  # Use PNG for DPI metadata support\n",
    "\n",
    "# === Load annotations ===\n",
    "with open(annotation_path, 'r') as f:\n",
    "    coco = json.load(f)\n",
    "\n",
    "first_image_info = coco['images'][0]\n",
    "first_image_id = first_image_info['id']\n",
    "\n",
    "# === Load image ===\n",
    "image = cv2.imread(image_path)\n",
    "if image is None:\n",
    "    raise ValueError(f\"❌ Failed to load image: {image_path}\")\n",
    "image = cv2.cvtColor(image, cv2.COLOR_BGR2RGB)\n",
    "height, width = image.shape[:2]\n",
    "\n",
    "# === Create blank canvas for drawing ===\n",
    "overlay = image.copy()\n",
    "\n",
    "# === Draw segmentations on the image ===\n",
    "annotations = [ann for ann in coco['annotations'] if ann['image_id'] == first_image_id]\n",
    "\n",
    "for ann in annotations:\n",
    "    segs = ann.get('segmentation', [])\n",
    "    if not segs or not isinstance(segs, list):\n",
    "        continue\n",
    "    for seg in segs:\n",
    "        poly = np.array(seg).reshape((-1, 2)).astype(np.int32)\n",
    "        cv2.polylines(overlay, [poly], isClosed=True, color=(0, 255, 0), thickness=2)\n",
    "\n",
    "plt.show()\n",
    "# === Save using PIL with exact DPI ===\n",
    "overlay_pil = Image.fromarray(overlay)\n",
    "overlay_pil.save(output_filename, dpi=(96, 96))\n",
    "\n",
    "print(f\"✅ Saved {output_filename} with size {overlay_pil.size} and DPI set to 96.\")\n"
   ]
  },
  {
   "cell_type": "code",
   "execution_count": 1,
   "metadata": {},
   "outputs": [
    {
     "name": "stdout",
     "output_type": "stream",
     "text": [
      "Collecting labelImg\n",
      "  Using cached labelImg-1.8.6.tar.gz (247 kB)\n",
      "Collecting pyqt5\n",
      "  Using cached PyQt5-5.15.11-cp38-abi3-win_amd64.whl (6.9 MB)\n",
      "Requirement already satisfied: lxml in c:\\users\\aishv\\anaconda3\\lib\\site-packages (from labelImg) (4.8.0)\n",
      "Collecting PyQt5-Qt5<5.16.0,>=5.15.2\n",
      "  Using cached PyQt5_Qt5-5.15.2-py3-none-win_amd64.whl (50.1 MB)\n",
      "Collecting PyQt5-sip<13,>=12.15\n",
      "  Downloading PyQt5_sip-12.17.0-cp39-cp39-win_amd64.whl (59 kB)\n",
      "Building wheels for collected packages: labelImg\n",
      "  Building wheel for labelImg (setup.py): started\n",
      "  Building wheel for labelImg (setup.py): finished with status 'done'\n",
      "  Created wheel for labelImg: filename=labelImg-1.8.6-py2.py3-none-any.whl size=261542 sha256=c32484bb11e0f66b3bdf2c57307f7b02b967e7450414fd7d5fd0efdbca39b856\n",
      "  Stored in directory: c:\\users\\aishv\\appdata\\local\\pip\\cache\\wheels\\a0\\2d\\29\\aaf47d232f5b03ec3e64a8432032f328dfdea1714041712bf6\n",
      "Successfully built labelImg\n",
      "Installing collected packages: PyQt5-sip, PyQt5-Qt5, pyqt5, labelImg\n",
      "Successfully installed PyQt5-Qt5-5.15.2 PyQt5-sip-12.17.0 labelImg-1.8.6 pyqt5-5.15.11\n"
     ]
    },
    {
     "name": "stderr",
     "output_type": "stream",
     "text": [
      "ERROR: pip's dependency resolver does not currently take into account all the packages that are installed. This behaviour is the source of the following dependency conflicts.\n",
      "spyder 5.1.5 requires pyqtwebengine<5.13, which is not installed.\n",
      "spyder 5.1.5 requires pyqt5<5.13, but you have pyqt5 5.15.11 which is incompatible.\n"
     ]
    }
   ],
   "source": [
    "!pip install labelImg"
   ]
  },
  {
   "cell_type": "code",
   "execution_count": 14,
   "metadata": {},
   "outputs": [],
   "source": [
    "!labelImg \"C:/ML/IHUBdata/apf/test5/A-hybrid-path-planning-algorithm-based-on-APF-and-Astar/singleAPF/annotated_last_image.png\"\n"
   ]
  },
  {
   "cell_type": "code",
   "execution_count": null,
   "metadata": {},
   "outputs": [],
   "source": []
  }
 ],
 "metadata": {
  "kernelspec": {
   "display_name": "base",
   "language": "python",
   "name": "python3"
  },
  "language_info": {
   "codemirror_mode": {
    "name": "ipython",
    "version": 3
   },
   "file_extension": ".py",
   "mimetype": "text/x-python",
   "name": "python",
   "nbconvert_exporter": "python",
   "pygments_lexer": "ipython3",
   "version": "3.9.12"
  }
 },
 "nbformat": 4,
 "nbformat_minor": 2
}
